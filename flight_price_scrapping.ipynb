{
 "cells": [
  {
   "cell_type": "code",
   "execution_count": 1,
   "id": "9e877a31",
   "metadata": {},
   "outputs": [],
   "source": [
    "##now importing basic Libraries\n",
    "import selenium\n",
    "from selenium import webdriver\n",
    "from selenium.webdriver import Chrome\n",
    "from selenium.webdriver.common.by import By\n",
    "from selenium.webdriver.common.keys import Keys\n",
    "from selenium.webdriver.support.ui import WebDriverWait\n",
    "from selenium.webdriver.support import expected_conditions as EC\n",
    "import pandas as pd\n",
    "import time\n",
    "import warnings\n",
    "warnings.filterwarnings('ignore')"
   ]
  },
  {
   "cell_type": "code",
   "execution_count": 2,
   "id": "c4fee57d",
   "metadata": {},
   "outputs": [],
   "source": [
    "driver = webdriver.Chrome(r'C:\\Users\\DELL\\Downloads\\chromedriver_win32\\chromedriver.exe')"
   ]
  },
  {
   "cell_type": "code",
   "execution_count": 10,
   "id": "ba2f8b6f",
   "metadata": {},
   "outputs": [],
   "source": [
    "F_name=[]\n",
    "arri=[]\n",
    "dep=[]\n",
    "st=[]\n",
    "pri=[]"
   ]
  },
  {
   "cell_type": "code",
   "execution_count": 65,
   "id": "b676a202",
   "metadata": {},
   "outputs": [],
   "source": [
    "## entering the website to the browser\n",
    "driver.get(\"https://www.makemytrip.com/\") "
   ]
  },
  {
   "cell_type": "code",
   "execution_count": 66,
   "id": "1075abf3",
   "metadata": {},
   "outputs": [],
   "source": [
    "driver.find_element_by_xpath(\"//*[@id='root']/div/div[2]/div/div/div[2]/div[1]/div[2]\").click()\n",
    "time.sleep(2) \n",
    "driver.find_element_by_xpath(\"//*[@id='react-autowhatever-1-section-1-item-8']\").click()\n",
    "time.sleep(2) \n",
    "driver.find_element_by_xpath(\"//*[@id='root']/div/div[2]/div/div/div[2]/div[1]/div[3]/div[1]/div/div/div/div[2]/div/div[2]/div[1]/div[3]/div[4]/div[2]\").click()\n",
    "time.sleep(2) \n",
    "driver.find_element_by_xpath(\"//*[@id='root']/div/div[2]/div/div/div[2]/p/a\").click()"
   ]
  },
  {
   "cell_type": "code",
   "execution_count": 67,
   "id": "ce724265",
   "metadata": {},
   "outputs": [],
   "source": [
    "time.sleep(3) \n",
    "last_height = driver.execute_script(\"return window.scrollY\")\n",
    "elll=[]\n",
    "while True:\n",
    "    driver.execute_script(\"window.scrollTo(0, window.scrollY + window.innerHeight);\")\n",
    "    time.sleep(2)    \n",
    "    new_height = driver.execute_script(\"return window.scrollY\")\n",
    "    if new_height == last_height:\n",
    "         break \n",
    "    last_height = new_height\n",
    "for i in driver.find_elements_by_xpath(\"//span[@class='boldFont blackText airlineName']\"):\n",
    "    F_name.append(i.text) \n",
    "for i in driver.find_elements_by_xpath(\"//div[@class='makeFlex flex-column flightTimeInfo']\"):\n",
    "    arri.append(i.text.split(\"\\n\"))\n",
    "for i in driver.find_elements_by_xpath(\"//p[@class='flightsLayoverInfo']\"):\n",
    "    st.append(i.text)\n",
    "for i in driver.find_elements_by_xpath(\"//div[@class='textRight flexOne']\"):\n",
    "    pri.append(i.text)"
   ]
  },
  {
   "cell_type": "code",
   "execution_count": 68,
   "id": "f2e7c749",
   "metadata": {},
   "outputs": [],
   "source": [
    "driver.find_element_by_xpath(\"//*[@id='1']/div/div[2]\").click()   \n",
    "time.sleep(3)\n",
    "last_height = driver.execute_script(\"return window.scrollY\")\n",
    "elll=[]\n",
    "while True:\n",
    "    driver.execute_script(\"window.scrollTo(0, window.scrollY + window.innerHeight);\")\n",
    "    time.sleep(2)    \n",
    "    new_height = driver.execute_script(\"return window.scrollY\")\n",
    "    if new_height == last_height:\n",
    "         break \n",
    "    last_height = new_height\n",
    "for i in driver.find_elements_by_xpath(\"//span[@class='boldFont blackText airlineName']\"):\n",
    "    F_name.append(i.text) \n",
    "for i in driver.find_elements_by_xpath(\"//div[@class='makeFlex flex-column flightTimeInfo']\"):\n",
    "    arri.append(i.text.split(\"\\n\"))\n",
    "for i in driver.find_elements_by_xpath(\"//p[@class='flightsLayoverInfo']\"):\n",
    "    st.append(i.text)\n",
    "for i in driver.find_elements_by_xpath(\"//div[@class='textRight flexOne']\"):\n",
    "    pri.append(i.text)"
   ]
  },
  {
   "cell_type": "code",
   "execution_count": 69,
   "id": "9b95f6c8",
   "metadata": {},
   "outputs": [],
   "source": [
    "try:\n",
    "    for i in range(3,30):\n",
    "        driver.back()\n",
    "        time.sleep(2)\n",
    "        driver.find_element_by_xpath(\"//*[@id='1']/div/div\" + str([i])).click()   \n",
    "        time.sleep(3)\n",
    "        last_height = driver.execute_script(\"return window.scrollY\")\n",
    "        elll=[]\n",
    "        while True:\n",
    "            driver.execute_script(\"window.scrollTo(0, window.scrollY + window.innerHeight);\")\n",
    "            time.sleep(2)    \n",
    "            new_height = driver.execute_script(\"return window.scrollY\")\n",
    "            if new_height == last_height:\n",
    "                break \n",
    "            last_height = new_height\n",
    "        for i in driver.find_elements_by_xpath(\"//span[@class='boldFont blackText airlineName']\"):\n",
    "            F_name.append(i.text) \n",
    "        for i in driver.find_elements_by_xpath(\"//div[@class='makeFlex flex-column flightTimeInfo']\"):\n",
    "            arri.append(i.text.split(\"\\n\"))\n",
    "        for i in driver.find_elements_by_xpath(\"//p[@class='flightsLayoverInfo']\"):\n",
    "            st.append(i.text)\n",
    "        for i in driver.find_elements_by_xpath(\"//div[@class='textRight flexOne']\"):\n",
    "            pri.append(i.text)\n",
    "except:\n",
    "    pass"
   ]
  },
  {
   "cell_type": "code",
   "execution_count": 79,
   "id": "06c1c37f",
   "metadata": {},
   "outputs": [
    {
     "data": {
      "text/plain": [
       "1721"
      ]
     },
     "execution_count": 79,
     "metadata": {},
     "output_type": "execute_result"
    }
   ],
   "source": [
    "len(source)"
   ]
  },
  {
   "cell_type": "code",
   "execution_count": 77,
   "id": "87ddd5dd",
   "metadata": {},
   "outputs": [],
   "source": [
    "source = arri[0:3442:2]\n",
    "destination =arri[1:3442:2]"
   ]
  },
  {
   "cell_type": "code",
   "execution_count": 80,
   "id": "36be4391",
   "metadata": {},
   "outputs": [
    {
     "data": {
      "text/plain": [
       "1721"
      ]
     },
     "execution_count": 80,
     "metadata": {},
     "output_type": "execute_result"
    }
   ],
   "source": [
    "arrival_time=[]   \n",
    "for i in range(0,1721):\n",
    "    a=source[i][0]\n",
    "    arrival_time.append(a) \n",
    "len(arrival_time)"
   ]
  },
  {
   "cell_type": "code",
   "execution_count": 82,
   "id": "16a10eef",
   "metadata": {},
   "outputs": [
    {
     "data": {
      "text/plain": [
       "1721"
      ]
     },
     "execution_count": 82,
     "metadata": {},
     "output_type": "execute_result"
    }
   ],
   "source": [
    "Flight_source=[]   \n",
    "for i in range(0,1721):\n",
    "    a=source[i][1]\n",
    "    Flight_source.append(a) \n",
    "len(Flight_source)"
   ]
  },
  {
   "cell_type": "code",
   "execution_count": 83,
   "id": "284d4f16",
   "metadata": {},
   "outputs": [
    {
     "data": {
      "text/plain": [
       "1721"
      ]
     },
     "execution_count": 83,
     "metadata": {},
     "output_type": "execute_result"
    }
   ],
   "source": [
    "departure_time=[]   \n",
    "for i in range(0,1721):\n",
    "    a=destination[i][0]\n",
    "    departure_time.append(a) \n",
    "len(departure_time)"
   ]
  },
  {
   "cell_type": "code",
   "execution_count": 84,
   "id": "f3f50837",
   "metadata": {},
   "outputs": [
    {
     "data": {
      "text/plain": [
       "1721"
      ]
     },
     "execution_count": 84,
     "metadata": {},
     "output_type": "execute_result"
    }
   ],
   "source": [
    "flight_destination=[]   \n",
    "for i in range(0,1721):\n",
    "    a=destination[i][1]\n",
    "    flight_destination.append(a) \n",
    "len(flight_destination)"
   ]
  },
  {
   "cell_type": "code",
   "execution_count": 101,
   "id": "8f30bf98",
   "metadata": {},
   "outputs": [],
   "source": [
    "flight=[]\n",
    "arr =[]\n",
    "stp=[]\n",
    "sou_name=[]\n",
    "desti_name=[]\n",
    "price=[]"
   ]
  },
  {
   "cell_type": "code",
   "execution_count": 115,
   "id": "2675288d",
   "metadata": {},
   "outputs": [],
   "source": [
    "## entering the website to the browser\n",
    "driver.get(\"https://www.flipkart.com/travel/flights\") "
   ]
  },
  {
   "cell_type": "code",
   "execution_count": 116,
   "id": "5808872e",
   "metadata": {},
   "outputs": [],
   "source": [
    "driver.find_element_by_xpath(\"//*[@id='container']/div/div[2]/div[1]/div/div[2]/div/div[2]/form/div/div[1]/div[1]/div[1]/div[1]/input\").click()\n",
    "time.sleep(1)\n",
    "driver.find_element_by_xpath(\"//*[@id='container']/div/div[2]/div[1]/div/div[2]/div/div[2]/form/div/div[1]/div[1]/div[1]/div[2]/div/div[13]\").click()\n",
    "time.sleep(1)\n",
    "driver.find_element_by_xpath(\"//*[@id='container']/div/div[2]/div[1]/div/div[2]/div/div[2]/form/div/div[1]/div[3]/div[1]/div[1]/input\").click()\n",
    "time.sleep(1)\n",
    "driver.find_element_by_xpath(\"//*[@id='container']/div/div[2]/div[1]/div/div[2]/div/div[2]/form/div/div[1]/div[3]/div[1]/div[2]/div/div[11]\").click()\n",
    "time.sleep(1)\n",
    "driver.find_element_by_xpath(\"//*[@id='container']/div/div[2]/div[1]/div/div[2]/div/div[2]/form/div/div[3]/div[1]/div[2]/div/div/div/div/table[1]/tbody/tr[4]/td[2]/div/button\").click()\n",
    "time.sleep(1)\n",
    "driver.find_element_by_xpath(\"//*[@id='container']/div/div[2]/div[1]/div/div[2]/div/div[2]/form/div/button\").click()"
   ]
  },
  {
   "cell_type": "code",
   "execution_count": 117,
   "id": "119871e0",
   "metadata": {},
   "outputs": [],
   "source": [
    "sour=[]\n",
    "dest=[]\n",
    "clone=[]\n",
    "time.sleep(3) \n",
    "last_height = driver.execute_script(\"return window.scrollY\")\n",
    "elll=[]\n",
    "while True:\n",
    "    driver.execute_script(\"window.scrollTo(0, window.scrollY + window.innerHeight);\")\n",
    "    time.sleep(2)    \n",
    "    new_height = driver.execute_script(\"return window.scrollY\")\n",
    "    if new_height == last_height:\n",
    "         break \n",
    "    last_height = new_height\n",
    "for i in driver.find_elements_by_xpath(\"//div[@class='ZLipHt']/span[1]\"):\n",
    "    flight.append(i.text) \n",
    "    clone.append(i.text) \n",
    "for i in driver.find_elements_by_xpath(\"//div[@class='_2g-pkx']\"):\n",
    "    arr.append(i.text.split(\"\\n\"))\n",
    "for i in driver.find_elements_by_xpath(\"//div[@class='_2-kTRm']/span[2]\"):\n",
    "    stp.append(i.text)\n",
    "for i in driver.find_elements_by_xpath(\"//div[@class='_3uUoiD']\"):\n",
    "    price.append(i.text)\n",
    "for i in driver.find_elements_by_xpath(\"//*[@id='container']/div/div[2]/div/div[2]/div[2]/div[3]/div/div[1]/div[1]/div/div[1]/span[1]\"):\n",
    "    sour.append(i.text) \n",
    "for i in driver.find_elements_by_xpath(\"//*[@id='container']/div/div[2]/div/div[2]/div[2]/div[3]/div/div/div[1]/div/div[1]/span[2]\"):\n",
    "    dest.append(i.text) \n",
    "#<span class=\"_271Zih\">Kolkata </span>"
   ]
  },
  {
   "cell_type": "code",
   "execution_count": 118,
   "id": "0f3d30c6",
   "metadata": {},
   "outputs": [],
   "source": [
    "driver.find_element_by_xpath(\"//*[@id='container']/div/div[2]/div/div[2]/div[2]/div[3]/div/div[1]/div[1]/div/div[2]/div[2]/div[2]\").click()   \n",
    "time.sleep(3)\n",
    "last_height = driver.execute_script(\"return window.scrollY\")\n",
    "elll=[]\n",
    "while True:\n",
    "    driver.execute_script(\"window.scrollTo(0, window.scrollY + window.innerHeight);\")\n",
    "    time.sleep(2)    \n",
    "    new_height = driver.execute_script(\"return window.scrollY\")\n",
    "    if new_height == last_height:\n",
    "         break \n",
    "    last_height = new_height\n",
    "for i in driver.find_elements_by_xpath(\"//div[@class='ZLipHt']/span[1]\"):\n",
    "    flight.append(i.text) \n",
    "    clone.append(i.text) \n",
    "for i in driver.find_elements_by_xpath(\"//div[@class='_2g-pkx']\"):\n",
    "    arr.append(i.text.split(\"\\n\"))\n",
    "for i in driver.find_elements_by_xpath(\"//div[@class='_2-kTRm']/span[2]\"):\n",
    "    stp.append(i.text)\n",
    "for i in driver.find_elements_by_xpath(\"//div[@class='_3uUoiD']\"):\n",
    "    price.append(i.text)"
   ]
  },
  {
   "cell_type": "code",
   "execution_count": 119,
   "id": "99616211",
   "metadata": {},
   "outputs": [],
   "source": [
    "try:\n",
    "    for i in range(3,30):\n",
    "        driver.back()\n",
    "        time.sleep(2)\n",
    "        driver.find_element_by_xpath(\"//*[@id='container']/div/div[2]/div/div[2]/div[2]/div[3]/div/div[1]/div[1]/div/div[2]/div[2]/div\" + str([i])).click()   \n",
    "        time.sleep(3)\n",
    "        last_height = driver.execute_script(\"return window.scrollY\")\n",
    "        elll=[]\n",
    "        while True:\n",
    "            driver.execute_script(\"window.scrollTo(0, window.scrollY + window.innerHeight);\")\n",
    "            time.sleep(2)    \n",
    "            new_height = driver.execute_script(\"return window.scrollY\")\n",
    "            if new_height == last_height:\n",
    "                break \n",
    "            last_height = new_height\n",
    "        for i in driver.find_elements_by_xpath(\"//div[@class='ZLipHt']/span[1]\"):\n",
    "            flight.append(i.text)\n",
    "            clone.append(i.text) \n",
    "        for i in driver.find_elements_by_xpath(\"//div[@class='_2g-pkx']\"):\n",
    "            arr.append(i.text.split(\"\\n\"))\n",
    "        for i in driver.find_elements_by_xpath(\"//div[@class='_2-kTRm']/span[2]\"):\n",
    "            stp.append(i.text)\n",
    "        for i in driver.find_elements_by_xpath(\"//div[@class='_3uUoiD']\"):\n",
    "            price.append(i.text)\n",
    "except:\n",
    "    pass"
   ]
  },
  {
   "cell_type": "code",
   "execution_count": 120,
   "id": "c1c3b4a9",
   "metadata": {},
   "outputs": [
    {
     "data": {
      "text/plain": [
       "2215"
      ]
     },
     "execution_count": 120,
     "metadata": {},
     "output_type": "execute_result"
    }
   ],
   "source": [
    "b=sour*len(clone)\n",
    "for i in b:\n",
    "    sou_name.append(i)\n",
    "len(sou_name)"
   ]
  },
  {
   "cell_type": "code",
   "execution_count": 121,
   "id": "73616322",
   "metadata": {},
   "outputs": [
    {
     "data": {
      "text/plain": [
       "2215"
      ]
     },
     "execution_count": 121,
     "metadata": {},
     "output_type": "execute_result"
    }
   ],
   "source": [
    "a=dest*len(clone)\n",
    "for i in a:\n",
    "    desti_name.append(i)\n",
    "len(desti_name)"
   ]
  },
  {
   "cell_type": "code",
   "execution_count": 122,
   "id": "54cc6d23",
   "metadata": {},
   "outputs": [
    {
     "data": {
      "text/plain": [
       "4450"
      ]
     },
     "execution_count": 122,
     "metadata": {},
     "output_type": "execute_result"
    }
   ],
   "source": [
    "len(arr)"
   ]
  },
  {
   "cell_type": "code",
   "execution_count": 123,
   "id": "707813a6",
   "metadata": {},
   "outputs": [],
   "source": [
    "arr_time=arr[0:4450:2]\n",
    "dep_time=arr[0:4450:2]"
   ]
  },
  {
   "cell_type": "code",
   "execution_count": null,
   "id": "55c907c0",
   "metadata": {},
   "outputs": [],
   "source": [
    "airlines = F_name + flight\n",
    "Arrival_time = arrival_time + arr_time\n",
    "Departure_time =departure_time + dep_time\n",
    "Stops = st + stp\n",
    "Source = Flight_source + sou_name\n",
    "Destination = flight_destination + desti_name"
   ]
  },
  {
   "cell_type": "code",
   "execution_count": 130,
   "id": "082e531f",
   "metadata": {},
   "outputs": [
    {
     "name": "stdout",
     "output_type": "stream",
     "text": [
      "1721 1721 1721 1727 1721 1721 1721\n"
     ]
    }
   ],
   "source": [
    "print(len(F_name), len(arrival_time),len(departure_time),len(st),len(Flight_source), len(pri),len(flight_destination))"
   ]
  },
  {
   "cell_type": "code",
   "execution_count": 131,
   "id": "ef581529",
   "metadata": {},
   "outputs": [
    {
     "name": "stdout",
     "output_type": "stream",
     "text": [
      "2215 2215 2215 2215 2215 2215 2215\n"
     ]
    }
   ],
   "source": [
    "print(len(flight), len(arr_time),len(dep_time),len(stp),len(sou_name), len(price),len(desti_name))"
   ]
  },
  {
   "cell_type": "code",
   "execution_count": 129,
   "id": "568c824d",
   "metadata": {},
   "outputs": [],
   "source": [
    "arr_time=arr_time[0:2215]\n",
    "dep_time=dep_time[0:2215]\n",
    "stp=stp[0:2215]\n",
    "price=price[0:2215]\n",
    "pri=pri[0:1721]\n"
   ]
  },
  {
   "cell_type": "code",
   "execution_count": 132,
   "id": "8df7d853",
   "metadata": {},
   "outputs": [],
   "source": [
    "airlines = F_name + flight\n",
    "Arrival_time = arrival_time + arr_time\n",
    "Departure_time =departure_time + dep_time\n",
    "Stops = st + stp\n",
    "Source = Flight_source + sou_name\n",
    "Destination = flight_destination + desti_name\n",
    "Price=pri+ price"
   ]
  },
  {
   "cell_type": "code",
   "execution_count": 135,
   "id": "94f05dea",
   "metadata": {},
   "outputs": [
    {
     "name": "stdout",
     "output_type": "stream",
     "text": [
      "3936 3936 3936 3936 3936 3936 3936\n"
     ]
    }
   ],
   "source": [
    "print(len(airlines), len(Arrival_time),len(Departure_time),len(Stops),len(Source), len(Destination),len(Price))"
   ]
  },
  {
   "cell_type": "code",
   "execution_count": 134,
   "id": "30f9eda6",
   "metadata": {},
   "outputs": [],
   "source": [
    "Stops=Stops[0:3936]"
   ]
  },
  {
   "cell_type": "code",
   "execution_count": 136,
   "id": "fc0e2bec",
   "metadata": {},
   "outputs": [],
   "source": [
    "import pandas as pd"
   ]
  },
  {
   "cell_type": "code",
   "execution_count": 138,
   "id": "18cf5473",
   "metadata": {},
   "outputs": [],
   "source": [
    "df=pd.DataFrame({\"airlines\":airlines,'Arrival_time':Arrival_time,\"Departure_time\":Departure_time,\"Stops\":Stops,\"Source\":Source,\"Destination\":Destination,\"Price\":Price})"
   ]
  },
  {
   "cell_type": "code",
   "execution_count": 139,
   "id": "e165388d",
   "metadata": {},
   "outputs": [
    {
     "data": {
      "text/html": [
       "<div>\n",
       "<style scoped>\n",
       "    .dataframe tbody tr th:only-of-type {\n",
       "        vertical-align: middle;\n",
       "    }\n",
       "\n",
       "    .dataframe tbody tr th {\n",
       "        vertical-align: top;\n",
       "    }\n",
       "\n",
       "    .dataframe thead th {\n",
       "        text-align: right;\n",
       "    }\n",
       "</style>\n",
       "<table border=\"1\" class=\"dataframe\">\n",
       "  <thead>\n",
       "    <tr style=\"text-align: right;\">\n",
       "      <th></th>\n",
       "      <th>airlines</th>\n",
       "      <th>Arrival_time</th>\n",
       "      <th>Departure_time</th>\n",
       "      <th>Stops</th>\n",
       "      <th>Source</th>\n",
       "      <th>Destination</th>\n",
       "      <th>Price</th>\n",
       "    </tr>\n",
       "  </thead>\n",
       "  <tbody>\n",
       "    <tr>\n",
       "      <th>0</th>\n",
       "      <td>IndiGo</td>\n",
       "      <td>02:30</td>\n",
       "      <td>05:25</td>\n",
       "      <td>Non stop</td>\n",
       "      <td>New Delhi</td>\n",
       "      <td>Bengaluru</td>\n",
       "      <td>₹ 8,160</td>\n",
       "    </tr>\n",
       "    <tr>\n",
       "      <th>1</th>\n",
       "      <td>IndiGo</td>\n",
       "      <td>04:15</td>\n",
       "      <td>07:10</td>\n",
       "      <td>Non stop</td>\n",
       "      <td>New Delhi</td>\n",
       "      <td>Bengaluru</td>\n",
       "      <td>₹ 8,160</td>\n",
       "    </tr>\n",
       "    <tr>\n",
       "      <th>2</th>\n",
       "      <td>SpiceJet</td>\n",
       "      <td>05:25</td>\n",
       "      <td>08:05</td>\n",
       "      <td>Non stop</td>\n",
       "      <td>New Delhi</td>\n",
       "      <td>Bengaluru</td>\n",
       "      <td>₹ 8,160</td>\n",
       "    </tr>\n",
       "    <tr>\n",
       "      <th>3</th>\n",
       "      <td>Go First</td>\n",
       "      <td>05:45</td>\n",
       "      <td>08:40</td>\n",
       "      <td>Non stop</td>\n",
       "      <td>New Delhi</td>\n",
       "      <td>Bengaluru</td>\n",
       "      <td>₹ 8,160</td>\n",
       "    </tr>\n",
       "    <tr>\n",
       "      <th>4</th>\n",
       "      <td>Vistara</td>\n",
       "      <td>05:55</td>\n",
       "      <td>08:40</td>\n",
       "      <td>Non stop</td>\n",
       "      <td>New Delhi</td>\n",
       "      <td>Bengaluru</td>\n",
       "      <td>₹ 8,160</td>\n",
       "    </tr>\n",
       "  </tbody>\n",
       "</table>\n",
       "</div>"
      ],
      "text/plain": [
       "   airlines Arrival_time Departure_time     Stops     Source Destination  \\\n",
       "0    IndiGo        02:30          05:25  Non stop  New Delhi   Bengaluru   \n",
       "1    IndiGo        04:15          07:10  Non stop  New Delhi   Bengaluru   \n",
       "2  SpiceJet        05:25          08:05  Non stop  New Delhi   Bengaluru   \n",
       "3  Go First        05:45          08:40  Non stop  New Delhi   Bengaluru   \n",
       "4   Vistara        05:55          08:40  Non stop  New Delhi   Bengaluru   \n",
       "\n",
       "     Price  \n",
       "0  ₹ 8,160  \n",
       "1  ₹ 8,160  \n",
       "2  ₹ 8,160  \n",
       "3  ₹ 8,160  \n",
       "4  ₹ 8,160  "
      ]
     },
     "execution_count": 139,
     "metadata": {},
     "output_type": "execute_result"
    }
   ],
   "source": [
    "df.head()"
   ]
  },
  {
   "cell_type": "code",
   "execution_count": 154,
   "id": "eccac5c6",
   "metadata": {},
   "outputs": [],
   "source": [
    "df.to_excel(\"flight.xlsx\")"
   ]
  },
  {
   "cell_type": "code",
   "execution_count": 153,
   "id": "5111a9d7",
   "metadata": {},
   "outputs": [
    {
     "data": {
      "text/html": [
       "<div>\n",
       "<style scoped>\n",
       "    .dataframe tbody tr th:only-of-type {\n",
       "        vertical-align: middle;\n",
       "    }\n",
       "\n",
       "    .dataframe tbody tr th {\n",
       "        vertical-align: top;\n",
       "    }\n",
       "\n",
       "    .dataframe thead th {\n",
       "        text-align: right;\n",
       "    }\n",
       "</style>\n",
       "<table border=\"1\" class=\"dataframe\">\n",
       "  <thead>\n",
       "    <tr style=\"text-align: right;\">\n",
       "      <th></th>\n",
       "      <th>airlines</th>\n",
       "      <th>Arrival_time</th>\n",
       "      <th>Departure_time</th>\n",
       "      <th>Stops</th>\n",
       "      <th>Source</th>\n",
       "      <th>Destination</th>\n",
       "      <th>Price</th>\n",
       "    </tr>\n",
       "  </thead>\n",
       "  <tbody>\n",
       "    <tr>\n",
       "      <th>0</th>\n",
       "      <td>IndiGo</td>\n",
       "      <td>02:30</td>\n",
       "      <td>05:25</td>\n",
       "      <td>Non stop</td>\n",
       "      <td>New Delhi</td>\n",
       "      <td>Bengaluru</td>\n",
       "      <td>8160</td>\n",
       "    </tr>\n",
       "    <tr>\n",
       "      <th>1</th>\n",
       "      <td>IndiGo</td>\n",
       "      <td>04:15</td>\n",
       "      <td>07:10</td>\n",
       "      <td>Non stop</td>\n",
       "      <td>New Delhi</td>\n",
       "      <td>Bengaluru</td>\n",
       "      <td>8160</td>\n",
       "    </tr>\n",
       "    <tr>\n",
       "      <th>2</th>\n",
       "      <td>SpiceJet</td>\n",
       "      <td>05:25</td>\n",
       "      <td>08:05</td>\n",
       "      <td>Non stop</td>\n",
       "      <td>New Delhi</td>\n",
       "      <td>Bengaluru</td>\n",
       "      <td>8160</td>\n",
       "    </tr>\n",
       "    <tr>\n",
       "      <th>3</th>\n",
       "      <td>Go First</td>\n",
       "      <td>05:45</td>\n",
       "      <td>08:40</td>\n",
       "      <td>Non stop</td>\n",
       "      <td>New Delhi</td>\n",
       "      <td>Bengaluru</td>\n",
       "      <td>8160</td>\n",
       "    </tr>\n",
       "    <tr>\n",
       "      <th>4</th>\n",
       "      <td>Vistara</td>\n",
       "      <td>05:55</td>\n",
       "      <td>08:40</td>\n",
       "      <td>Non stop</td>\n",
       "      <td>New Delhi</td>\n",
       "      <td>Bengaluru</td>\n",
       "      <td>8160</td>\n",
       "    </tr>\n",
       "    <tr>\n",
       "      <th>...</th>\n",
       "      <td>...</td>\n",
       "      <td>...</td>\n",
       "      <td>...</td>\n",
       "      <td>...</td>\n",
       "      <td>...</td>\n",
       "      <td>...</td>\n",
       "      <td>...</td>\n",
       "    </tr>\n",
       "    <tr>\n",
       "      <th>3931</th>\n",
       "      <td>Vistara</td>\n",
       "      <td>[09:45]</td>\n",
       "      <td>[09:45]</td>\n",
       "      <td>1 stop - PNQ</td>\n",
       "      <td>New Delhi</td>\n",
       "      <td>Bangalore</td>\n",
       "      <td>₹20340</td>\n",
       "    </tr>\n",
       "    <tr>\n",
       "      <th>3932</th>\n",
       "      <td>Air Asia</td>\n",
       "      <td>[12:00]</td>\n",
       "      <td>[12:00]</td>\n",
       "      <td>1 stop - BOM</td>\n",
       "      <td>New Delhi</td>\n",
       "      <td>Bangalore</td>\n",
       "      <td>₹20723</td>\n",
       "    </tr>\n",
       "    <tr>\n",
       "      <th>3933</th>\n",
       "      <td>Vistara</td>\n",
       "      <td>[17:15]</td>\n",
       "      <td>[17:15]</td>\n",
       "      <td>1 stop - BOM</td>\n",
       "      <td>New Delhi</td>\n",
       "      <td>Bangalore</td>\n",
       "      <td>₹21023</td>\n",
       "    </tr>\n",
       "    <tr>\n",
       "      <th>3934</th>\n",
       "      <td>Vistara</td>\n",
       "      <td>[09:45]</td>\n",
       "      <td>[09:45]</td>\n",
       "      <td>1 stop - BOM</td>\n",
       "      <td>New Delhi</td>\n",
       "      <td>Bangalore</td>\n",
       "      <td>₹21023</td>\n",
       "    </tr>\n",
       "    <tr>\n",
       "      <th>3935</th>\n",
       "      <td>Vistara</td>\n",
       "      <td>[07:10]</td>\n",
       "      <td>[07:10]</td>\n",
       "      <td>1 stop - HYD</td>\n",
       "      <td>New Delhi</td>\n",
       "      <td>Bangalore</td>\n",
       "      <td>₹21023</td>\n",
       "    </tr>\n",
       "  </tbody>\n",
       "</table>\n",
       "<p>3936 rows × 7 columns</p>\n",
       "</div>"
      ],
      "text/plain": [
       "      airlines Arrival_time Departure_time         Stops     Source  \\\n",
       "0       IndiGo        02:30          05:25      Non stop  New Delhi   \n",
       "1       IndiGo        04:15          07:10      Non stop  New Delhi   \n",
       "2     SpiceJet        05:25          08:05      Non stop  New Delhi   \n",
       "3     Go First        05:45          08:40      Non stop  New Delhi   \n",
       "4      Vistara        05:55          08:40      Non stop  New Delhi   \n",
       "...        ...          ...            ...           ...        ...   \n",
       "3931   Vistara      [09:45]        [09:45]  1 stop - PNQ  New Delhi   \n",
       "3932  Air Asia      [12:00]        [12:00]  1 stop - BOM  New Delhi   \n",
       "3933   Vistara      [17:15]        [17:15]  1 stop - BOM  New Delhi   \n",
       "3934   Vistara      [09:45]        [09:45]  1 stop - BOM  New Delhi   \n",
       "3935   Vistara      [07:10]        [07:10]  1 stop - HYD  New Delhi   \n",
       "\n",
       "     Destination   Price  \n",
       "0      Bengaluru    8160  \n",
       "1      Bengaluru    8160  \n",
       "2      Bengaluru    8160  \n",
       "3      Bengaluru    8160  \n",
       "4      Bengaluru    8160  \n",
       "...          ...     ...  \n",
       "3931   Bangalore  ₹20340  \n",
       "3932   Bangalore  ₹20723  \n",
       "3933   Bangalore  ₹21023  \n",
       "3934   Bangalore  ₹21023  \n",
       "3935   Bangalore  ₹21023  \n",
       "\n",
       "[3936 rows x 7 columns]"
      ]
     },
     "execution_count": 153,
     "metadata": {},
     "output_type": "execute_result"
    }
   ],
   "source": [
    "df['Price'] = df['Price'].str.replace('₹ ', '')\n",
    "df['Price'] = df['Price'].str.replace(',', '')\n",
    "#df['Price'] = df['Price'].str.replace('₹ ', '')"
   ]
  },
  {
   "cell_type": "code",
   "execution_count": null,
   "id": "ff0bca30",
   "metadata": {},
   "outputs": [],
   "source": []
  }
 ],
 "metadata": {
  "kernelspec": {
   "display_name": "Python 3 (ipykernel)",
   "language": "python",
   "name": "python3"
  },
  "language_info": {
   "codemirror_mode": {
    "name": "ipython",
    "version": 3
   },
   "file_extension": ".py",
   "mimetype": "text/x-python",
   "name": "python",
   "nbconvert_exporter": "python",
   "pygments_lexer": "ipython3",
   "version": "3.9.7"
  }
 },
 "nbformat": 4,
 "nbformat_minor": 5
}
